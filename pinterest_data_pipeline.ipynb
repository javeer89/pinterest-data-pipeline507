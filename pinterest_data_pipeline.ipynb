{
 "cells": [
  {
   "cell_type": "markdown",
   "metadata": {},
   "source": [
    "# Pinterest Data Pipeline\n",
    "This is for the README File in the future. May contain additional notes for myself wherever I have problems."
   ]
  },
  {
   "cell_type": "markdown",
   "metadata": {},
   "source": [
    "#### Key Pair\n",
    "Creating the keypar was our first course of action using the provided Account ID, IAM user name and Password to connect to the AWS Account and navigate through the console to locate the appropriate **KeyPairId**.\n",
    "</br>\n",
    "See file [0e2a0bfcc015-key-pair.pem](0e2a0bfcc015-key-pair.pem)"
   ]
  },
  {
   "cell_type": "markdown",
   "metadata": {},
   "source": [
    "#### Connect to EC2\n",
    "attempted to connect via code: ssh -i \"0e2a0bfcc015-key-pair.pem\" root@ec2-184-73-75-230.compute-1.amazonaws.com\n",
    "<br>\n",
    "However that failed and was prompted to use ec2-user: ssh -i \"0e2a0bfcc015-key-pair.pem\" ec2-user@ec2-184-73-75-230.compute-1.amazonaws.com\n",
    "<br>\n",
    "Then ran code sudo yum update"
   ]
  },
  {
   "cell_type": "markdown",
   "metadata": {},
   "source": [
    "#### Setting Up Kafka\n",
    "first ran: sudo yum update\n",
    "<br> then installed Java using: sudo yum install java-1.8.0-openjdk.x86_64 java-1.8.0-openjdk-devel.x86_64\n",
    "\n",
    "<br> Kafka Target\n",
    "<br> https://archive.apache.org/dist/kafka/2.8.1/kafka_2.12-2.8.1.tgz\n",
    "</br>\n",
    "May consider following, https://www.digitalocean.com/community/tutorials/how-to-install-apache-kafka-on-ubuntu-20-04\n"
   ]
  },
  {
   "cell_type": "code",
   "execution_count": null,
   "metadata": {
    "vscode": {
     "languageId": "shellscript"
    }
   },
   "outputs": [],
   "source": [
    "wget https://archive.apache.org/dist/kafka/2.8.1/kafka_2.12-2.8.1.tgz\n",
    "\n"
   ]
  }
 ],
 "metadata": {
  "kernelspec": {
   "display_name": "base",
   "language": "python",
   "name": "python3"
  },
  "language_info": {
   "codemirror_mode": {
    "name": "ipython",
    "version": 3
   },
   "file_extension": ".py",
   "mimetype": "text/x-python",
   "name": "python",
   "nbconvert_exporter": "python",
   "pygments_lexer": "ipython3",
   "version": "3.11.5"
  }
 },
 "nbformat": 4,
 "nbformat_minor": 2
}
